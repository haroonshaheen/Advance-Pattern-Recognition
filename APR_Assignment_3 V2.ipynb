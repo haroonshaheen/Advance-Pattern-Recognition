{
  "nbformat": 4,
  "nbformat_minor": 0,
  "metadata": {
    "colab": {
      "provenance": []
    },
    "kernelspec": {
      "name": "python3",
      "display_name": "Python 3"
    },
    "language_info": {
      "name": "python"
    }
  },
  "cells": [
    {
      "cell_type": "code",
      "execution_count": 3,
      "metadata": {
        "colab": {
          "base_uri": "https://localhost:8080/"
        },
        "id": "Yvg-17SIMYwX",
        "outputId": "cfee1ddf-b66f-43e2-bf84-1c6b076b638b"
      },
      "outputs": [
        {
          "output_type": "stream",
          "name": "stdout",
          "text": [
            "Requirement already satisfied: pandas in /usr/local/lib/python3.11/dist-packages (2.2.2)\n",
            "Requirement already satisfied: numpy in /usr/local/lib/python3.11/dist-packages (2.0.2)\n",
            "Requirement already satisfied: matplotlib in /usr/local/lib/python3.11/dist-packages (3.10.0)\n",
            "Requirement already satisfied: scikit-learn in /usr/local/lib/python3.11/dist-packages (1.6.1)\n",
            "Requirement already satisfied: tensorflow in /usr/local/lib/python3.11/dist-packages (2.18.0)\n",
            "Requirement already satisfied: python-dateutil>=2.8.2 in /usr/local/lib/python3.11/dist-packages (from pandas) (2.9.0.post0)\n",
            "Requirement already satisfied: pytz>=2020.1 in /usr/local/lib/python3.11/dist-packages (from pandas) (2025.2)\n",
            "Requirement already satisfied: tzdata>=2022.7 in /usr/local/lib/python3.11/dist-packages (from pandas) (2025.2)\n",
            "Requirement already satisfied: contourpy>=1.0.1 in /usr/local/lib/python3.11/dist-packages (from matplotlib) (1.3.2)\n",
            "Requirement already satisfied: cycler>=0.10 in /usr/local/lib/python3.11/dist-packages (from matplotlib) (0.12.1)\n",
            "Requirement already satisfied: fonttools>=4.22.0 in /usr/local/lib/python3.11/dist-packages (from matplotlib) (4.57.0)\n",
            "Requirement already satisfied: kiwisolver>=1.3.1 in /usr/local/lib/python3.11/dist-packages (from matplotlib) (1.4.8)\n",
            "Requirement already satisfied: packaging>=20.0 in /usr/local/lib/python3.11/dist-packages (from matplotlib) (24.2)\n",
            "Requirement already satisfied: pillow>=8 in /usr/local/lib/python3.11/dist-packages (from matplotlib) (11.2.1)\n",
            "Requirement already satisfied: pyparsing>=2.3.1 in /usr/local/lib/python3.11/dist-packages (from matplotlib) (3.2.3)\n",
            "Requirement already satisfied: scipy>=1.6.0 in /usr/local/lib/python3.11/dist-packages (from scikit-learn) (1.15.3)\n",
            "Requirement already satisfied: joblib>=1.2.0 in /usr/local/lib/python3.11/dist-packages (from scikit-learn) (1.5.0)\n",
            "Requirement already satisfied: threadpoolctl>=3.1.0 in /usr/local/lib/python3.11/dist-packages (from scikit-learn) (3.6.0)\n",
            "Requirement already satisfied: absl-py>=1.0.0 in /usr/local/lib/python3.11/dist-packages (from tensorflow) (1.4.0)\n",
            "Requirement already satisfied: astunparse>=1.6.0 in /usr/local/lib/python3.11/dist-packages (from tensorflow) (1.6.3)\n",
            "Requirement already satisfied: flatbuffers>=24.3.25 in /usr/local/lib/python3.11/dist-packages (from tensorflow) (25.2.10)\n",
            "Requirement already satisfied: gast!=0.5.0,!=0.5.1,!=0.5.2,>=0.2.1 in /usr/local/lib/python3.11/dist-packages (from tensorflow) (0.6.0)\n",
            "Requirement already satisfied: google-pasta>=0.1.1 in /usr/local/lib/python3.11/dist-packages (from tensorflow) (0.2.0)\n",
            "Requirement already satisfied: libclang>=13.0.0 in /usr/local/lib/python3.11/dist-packages (from tensorflow) (18.1.1)\n",
            "Requirement already satisfied: opt-einsum>=2.3.2 in /usr/local/lib/python3.11/dist-packages (from tensorflow) (3.4.0)\n",
            "Requirement already satisfied: protobuf!=4.21.0,!=4.21.1,!=4.21.2,!=4.21.3,!=4.21.4,!=4.21.5,<6.0.0dev,>=3.20.3 in /usr/local/lib/python3.11/dist-packages (from tensorflow) (5.29.4)\n",
            "Requirement already satisfied: requests<3,>=2.21.0 in /usr/local/lib/python3.11/dist-packages (from tensorflow) (2.32.3)\n",
            "Requirement already satisfied: setuptools in /usr/local/lib/python3.11/dist-packages (from tensorflow) (75.2.0)\n",
            "Requirement already satisfied: six>=1.12.0 in /usr/local/lib/python3.11/dist-packages (from tensorflow) (1.17.0)\n",
            "Requirement already satisfied: termcolor>=1.1.0 in /usr/local/lib/python3.11/dist-packages (from tensorflow) (3.1.0)\n",
            "Requirement already satisfied: typing-extensions>=3.6.6 in /usr/local/lib/python3.11/dist-packages (from tensorflow) (4.13.2)\n",
            "Requirement already satisfied: wrapt>=1.11.0 in /usr/local/lib/python3.11/dist-packages (from tensorflow) (1.17.2)\n",
            "Requirement already satisfied: grpcio<2.0,>=1.24.3 in /usr/local/lib/python3.11/dist-packages (from tensorflow) (1.71.0)\n",
            "Requirement already satisfied: tensorboard<2.19,>=2.18 in /usr/local/lib/python3.11/dist-packages (from tensorflow) (2.18.0)\n",
            "Requirement already satisfied: keras>=3.5.0 in /usr/local/lib/python3.11/dist-packages (from tensorflow) (3.8.0)\n",
            "Requirement already satisfied: h5py>=3.11.0 in /usr/local/lib/python3.11/dist-packages (from tensorflow) (3.13.0)\n",
            "Requirement already satisfied: ml-dtypes<0.5.0,>=0.4.0 in /usr/local/lib/python3.11/dist-packages (from tensorflow) (0.4.1)\n",
            "Requirement already satisfied: tensorflow-io-gcs-filesystem>=0.23.1 in /usr/local/lib/python3.11/dist-packages (from tensorflow) (0.37.1)\n",
            "Requirement already satisfied: wheel<1.0,>=0.23.0 in /usr/local/lib/python3.11/dist-packages (from astunparse>=1.6.0->tensorflow) (0.45.1)\n",
            "Requirement already satisfied: rich in /usr/local/lib/python3.11/dist-packages (from keras>=3.5.0->tensorflow) (13.9.4)\n",
            "Requirement already satisfied: namex in /usr/local/lib/python3.11/dist-packages (from keras>=3.5.0->tensorflow) (0.0.9)\n",
            "Requirement already satisfied: optree in /usr/local/lib/python3.11/dist-packages (from keras>=3.5.0->tensorflow) (0.15.0)\n",
            "Requirement already satisfied: charset-normalizer<4,>=2 in /usr/local/lib/python3.11/dist-packages (from requests<3,>=2.21.0->tensorflow) (3.4.2)\n",
            "Requirement already satisfied: idna<4,>=2.5 in /usr/local/lib/python3.11/dist-packages (from requests<3,>=2.21.0->tensorflow) (3.10)\n",
            "Requirement already satisfied: urllib3<3,>=1.21.1 in /usr/local/lib/python3.11/dist-packages (from requests<3,>=2.21.0->tensorflow) (2.4.0)\n",
            "Requirement already satisfied: certifi>=2017.4.17 in /usr/local/lib/python3.11/dist-packages (from requests<3,>=2.21.0->tensorflow) (2025.4.26)\n",
            "Requirement already satisfied: markdown>=2.6.8 in /usr/local/lib/python3.11/dist-packages (from tensorboard<2.19,>=2.18->tensorflow) (3.8)\n",
            "Requirement already satisfied: tensorboard-data-server<0.8.0,>=0.7.0 in /usr/local/lib/python3.11/dist-packages (from tensorboard<2.19,>=2.18->tensorflow) (0.7.2)\n",
            "Requirement already satisfied: werkzeug>=1.0.1 in /usr/local/lib/python3.11/dist-packages (from tensorboard<2.19,>=2.18->tensorflow) (3.1.3)\n",
            "Requirement already satisfied: MarkupSafe>=2.1.1 in /usr/local/lib/python3.11/dist-packages (from werkzeug>=1.0.1->tensorboard<2.19,>=2.18->tensorflow) (3.0.2)\n",
            "Requirement already satisfied: markdown-it-py>=2.2.0 in /usr/local/lib/python3.11/dist-packages (from rich->keras>=3.5.0->tensorflow) (3.0.0)\n",
            "Requirement already satisfied: pygments<3.0.0,>=2.13.0 in /usr/local/lib/python3.11/dist-packages (from rich->keras>=3.5.0->tensorflow) (2.19.1)\n",
            "Requirement already satisfied: mdurl~=0.1 in /usr/local/lib/python3.11/dist-packages (from markdown-it-py>=2.2.0->rich->keras>=3.5.0->tensorflow) (0.1.2)\n"
          ]
        }
      ],
      "source": [
        "!pip install pandas numpy matplotlib scikit-learn tensorflow"
      ]
    },
    {
      "cell_type": "markdown",
      "source": [
        "### Loading Data Set"
      ],
      "metadata": {
        "id": "9sRH11NqMhQ3"
      }
    },
    {
      "cell_type": "code",
      "source": [
        "import pandas as pd\n",
        "\n",
        "# Load the CSV into a DataFrame\n",
        "df = pd.read_csv('PowerQualityDistributionDataset1.csv')\n",
        "\n",
        "# Display first few rows\n",
        "df.head()"
      ],
      "metadata": {
        "colab": {
          "base_uri": "https://localhost:8080/",
          "height": 273
        },
        "id": "QOvJvS_oMrnP",
        "outputId": "b5c5f095-04ad-4a83-a51c-9df9e8276363"
      },
      "execution_count": 7,
      "outputs": [
        {
          "output_type": "execute_result",
          "data": {
            "text/plain": [
              "   Unnamed: 0         Col1         Col2         Col3         Col4  \\\n",
              "0           0  -797.962914 -1320.199586 -1828.741445 -2319.935857   \n",
              "1           1  4387.885674  4567.747164  4693.741356  4776.824895   \n",
              "2           2 -4050.074299 -4340.408587 -4576.875995 -4769.518913   \n",
              "3           3  3458.450134  3686.700705  4000.773209  4392.451258   \n",
              "4           4  -910.262100  -312.245917   298.552078   896.568469   \n",
              "\n",
              "          Col5         Col6         Col7         Col8         Col9  ...  \\\n",
              "0 -2789.218649 -3231.111864 -3641.962908 -4018.119193 -4355.929647  ...   \n",
              "1  4824.300958  4850.777519  4862.646175  4867.211521  4866.298624  ...   \n",
              "2 -4918.338175 -5025.159834 -5100.026323 -5141.111052 -5153.892968  ...   \n",
              "3  4834.343975  5269.845213  5636.871457  5876.078192  5950.944421  ...   \n",
              "4  1462.629392  1978.474763  2439.540162  2847.652177  3212.852886  ...   \n",
              "\n",
              "        Col120       Col121       Col122       Col123       Col124  \\\n",
              "0  3632.834002  3221.982426  2780.090228  2311.720161  1821.438861   \n",
              "1  -165.252287   524.062959  1199.684611  1842.437384  2437.714882   \n",
              "2   563.322919   -47.475988  -656.447463 -1252.637741 -1825.089177   \n",
              "3  -722.183210    67.562203   850.005032  1561.232918  2152.858410   \n",
              "4 -4506.574476 -4196.154858 -3881.168803 -3560.705563 -3225.633496   \n",
              "\n",
              "        Col125       Col126       Col127       Col128  output  \n",
              "0  1311.983509   790.659456   262.031836  -269.335205       1  \n",
              "1  2972.733259  3437.450839  3828.215741  4143.201102       2  \n",
              "2 -2364.673580 -2861.346591 -3309.630078 -3706.785897       2  \n",
              "3  2601.141643  2912.474970  3123.378574  3286.805684       3  \n",
              "4 -2860.433401 -2452.321914 -1991.255895 -1474.497200       3  \n",
              "\n",
              "[5 rows x 130 columns]"
            ],
            "text/html": [
              "\n",
              "  <div id=\"df-2fb4297b-f685-4a9a-92ae-8e4e124c64b4\" class=\"colab-df-container\">\n",
              "    <div>\n",
              "<style scoped>\n",
              "    .dataframe tbody tr th:only-of-type {\n",
              "        vertical-align: middle;\n",
              "    }\n",
              "\n",
              "    .dataframe tbody tr th {\n",
              "        vertical-align: top;\n",
              "    }\n",
              "\n",
              "    .dataframe thead th {\n",
              "        text-align: right;\n",
              "    }\n",
              "</style>\n",
              "<table border=\"1\" class=\"dataframe\">\n",
              "  <thead>\n",
              "    <tr style=\"text-align: right;\">\n",
              "      <th></th>\n",
              "      <th>Unnamed: 0</th>\n",
              "      <th>Col1</th>\n",
              "      <th>Col2</th>\n",
              "      <th>Col3</th>\n",
              "      <th>Col4</th>\n",
              "      <th>Col5</th>\n",
              "      <th>Col6</th>\n",
              "      <th>Col7</th>\n",
              "      <th>Col8</th>\n",
              "      <th>Col9</th>\n",
              "      <th>...</th>\n",
              "      <th>Col120</th>\n",
              "      <th>Col121</th>\n",
              "      <th>Col122</th>\n",
              "      <th>Col123</th>\n",
              "      <th>Col124</th>\n",
              "      <th>Col125</th>\n",
              "      <th>Col126</th>\n",
              "      <th>Col127</th>\n",
              "      <th>Col128</th>\n",
              "      <th>output</th>\n",
              "    </tr>\n",
              "  </thead>\n",
              "  <tbody>\n",
              "    <tr>\n",
              "      <th>0</th>\n",
              "      <td>0</td>\n",
              "      <td>-797.962914</td>\n",
              "      <td>-1320.199586</td>\n",
              "      <td>-1828.741445</td>\n",
              "      <td>-2319.935857</td>\n",
              "      <td>-2789.218649</td>\n",
              "      <td>-3231.111864</td>\n",
              "      <td>-3641.962908</td>\n",
              "      <td>-4018.119193</td>\n",
              "      <td>-4355.929647</td>\n",
              "      <td>...</td>\n",
              "      <td>3632.834002</td>\n",
              "      <td>3221.982426</td>\n",
              "      <td>2780.090228</td>\n",
              "      <td>2311.720161</td>\n",
              "      <td>1821.438861</td>\n",
              "      <td>1311.983509</td>\n",
              "      <td>790.659456</td>\n",
              "      <td>262.031836</td>\n",
              "      <td>-269.335205</td>\n",
              "      <td>1</td>\n",
              "    </tr>\n",
              "    <tr>\n",
              "      <th>1</th>\n",
              "      <td>1</td>\n",
              "      <td>4387.885674</td>\n",
              "      <td>4567.747164</td>\n",
              "      <td>4693.741356</td>\n",
              "      <td>4776.824895</td>\n",
              "      <td>4824.300958</td>\n",
              "      <td>4850.777519</td>\n",
              "      <td>4862.646175</td>\n",
              "      <td>4867.211521</td>\n",
              "      <td>4866.298624</td>\n",
              "      <td>...</td>\n",
              "      <td>-165.252287</td>\n",
              "      <td>524.062959</td>\n",
              "      <td>1199.684611</td>\n",
              "      <td>1842.437384</td>\n",
              "      <td>2437.714882</td>\n",
              "      <td>2972.733259</td>\n",
              "      <td>3437.450839</td>\n",
              "      <td>3828.215741</td>\n",
              "      <td>4143.201102</td>\n",
              "      <td>2</td>\n",
              "    </tr>\n",
              "    <tr>\n",
              "      <th>2</th>\n",
              "      <td>2</td>\n",
              "      <td>-4050.074299</td>\n",
              "      <td>-4340.408587</td>\n",
              "      <td>-4576.875995</td>\n",
              "      <td>-4769.518913</td>\n",
              "      <td>-4918.338175</td>\n",
              "      <td>-5025.159834</td>\n",
              "      <td>-5100.026323</td>\n",
              "      <td>-5141.111052</td>\n",
              "      <td>-5153.892968</td>\n",
              "      <td>...</td>\n",
              "      <td>563.322919</td>\n",
              "      <td>-47.475988</td>\n",
              "      <td>-656.447463</td>\n",
              "      <td>-1252.637741</td>\n",
              "      <td>-1825.089177</td>\n",
              "      <td>-2364.673580</td>\n",
              "      <td>-2861.346591</td>\n",
              "      <td>-3309.630078</td>\n",
              "      <td>-3706.785897</td>\n",
              "      <td>2</td>\n",
              "    </tr>\n",
              "    <tr>\n",
              "      <th>3</th>\n",
              "      <td>3</td>\n",
              "      <td>3458.450134</td>\n",
              "      <td>3686.700705</td>\n",
              "      <td>4000.773209</td>\n",
              "      <td>4392.451258</td>\n",
              "      <td>4834.343975</td>\n",
              "      <td>5269.845213</td>\n",
              "      <td>5636.871457</td>\n",
              "      <td>5876.078192</td>\n",
              "      <td>5950.944421</td>\n",
              "      <td>...</td>\n",
              "      <td>-722.183210</td>\n",
              "      <td>67.562203</td>\n",
              "      <td>850.005032</td>\n",
              "      <td>1561.232918</td>\n",
              "      <td>2152.858410</td>\n",
              "      <td>2601.141643</td>\n",
              "      <td>2912.474970</td>\n",
              "      <td>3123.378574</td>\n",
              "      <td>3286.805684</td>\n",
              "      <td>3</td>\n",
              "    </tr>\n",
              "    <tr>\n",
              "      <th>4</th>\n",
              "      <td>4</td>\n",
              "      <td>-910.262100</td>\n",
              "      <td>-312.245917</td>\n",
              "      <td>298.552078</td>\n",
              "      <td>896.568469</td>\n",
              "      <td>1462.629392</td>\n",
              "      <td>1978.474763</td>\n",
              "      <td>2439.540162</td>\n",
              "      <td>2847.652177</td>\n",
              "      <td>3212.852886</td>\n",
              "      <td>...</td>\n",
              "      <td>-4506.574476</td>\n",
              "      <td>-4196.154858</td>\n",
              "      <td>-3881.168803</td>\n",
              "      <td>-3560.705563</td>\n",
              "      <td>-3225.633496</td>\n",
              "      <td>-2860.433401</td>\n",
              "      <td>-2452.321914</td>\n",
              "      <td>-1991.255895</td>\n",
              "      <td>-1474.497200</td>\n",
              "      <td>3</td>\n",
              "    </tr>\n",
              "  </tbody>\n",
              "</table>\n",
              "<p>5 rows × 130 columns</p>\n",
              "</div>\n",
              "    <div class=\"colab-df-buttons\">\n",
              "\n",
              "  <div class=\"colab-df-container\">\n",
              "    <button class=\"colab-df-convert\" onclick=\"convertToInteractive('df-2fb4297b-f685-4a9a-92ae-8e4e124c64b4')\"\n",
              "            title=\"Convert this dataframe to an interactive table.\"\n",
              "            style=\"display:none;\">\n",
              "\n",
              "  <svg xmlns=\"http://www.w3.org/2000/svg\" height=\"24px\" viewBox=\"0 -960 960 960\">\n",
              "    <path d=\"M120-120v-720h720v720H120Zm60-500h600v-160H180v160Zm220 220h160v-160H400v160Zm0 220h160v-160H400v160ZM180-400h160v-160H180v160Zm440 0h160v-160H620v160ZM180-180h160v-160H180v160Zm440 0h160v-160H620v160Z\"/>\n",
              "  </svg>\n",
              "    </button>\n",
              "\n",
              "  <style>\n",
              "    .colab-df-container {\n",
              "      display:flex;\n",
              "      gap: 12px;\n",
              "    }\n",
              "\n",
              "    .colab-df-convert {\n",
              "      background-color: #E8F0FE;\n",
              "      border: none;\n",
              "      border-radius: 50%;\n",
              "      cursor: pointer;\n",
              "      display: none;\n",
              "      fill: #1967D2;\n",
              "      height: 32px;\n",
              "      padding: 0 0 0 0;\n",
              "      width: 32px;\n",
              "    }\n",
              "\n",
              "    .colab-df-convert:hover {\n",
              "      background-color: #E2EBFA;\n",
              "      box-shadow: 0px 1px 2px rgba(60, 64, 67, 0.3), 0px 1px 3px 1px rgba(60, 64, 67, 0.15);\n",
              "      fill: #174EA6;\n",
              "    }\n",
              "\n",
              "    .colab-df-buttons div {\n",
              "      margin-bottom: 4px;\n",
              "    }\n",
              "\n",
              "    [theme=dark] .colab-df-convert {\n",
              "      background-color: #3B4455;\n",
              "      fill: #D2E3FC;\n",
              "    }\n",
              "\n",
              "    [theme=dark] .colab-df-convert:hover {\n",
              "      background-color: #434B5C;\n",
              "      box-shadow: 0px 1px 3px 1px rgba(0, 0, 0, 0.15);\n",
              "      filter: drop-shadow(0px 1px 2px rgba(0, 0, 0, 0.3));\n",
              "      fill: #FFFFFF;\n",
              "    }\n",
              "  </style>\n",
              "\n",
              "    <script>\n",
              "      const buttonEl =\n",
              "        document.querySelector('#df-2fb4297b-f685-4a9a-92ae-8e4e124c64b4 button.colab-df-convert');\n",
              "      buttonEl.style.display =\n",
              "        google.colab.kernel.accessAllowed ? 'block' : 'none';\n",
              "\n",
              "      async function convertToInteractive(key) {\n",
              "        const element = document.querySelector('#df-2fb4297b-f685-4a9a-92ae-8e4e124c64b4');\n",
              "        const dataTable =\n",
              "          await google.colab.kernel.invokeFunction('convertToInteractive',\n",
              "                                                    [key], {});\n",
              "        if (!dataTable) return;\n",
              "\n",
              "        const docLinkHtml = 'Like what you see? Visit the ' +\n",
              "          '<a target=\"_blank\" href=https://colab.research.google.com/notebooks/data_table.ipynb>data table notebook</a>'\n",
              "          + ' to learn more about interactive tables.';\n",
              "        element.innerHTML = '';\n",
              "        dataTable['output_type'] = 'display_data';\n",
              "        await google.colab.output.renderOutput(dataTable, element);\n",
              "        const docLink = document.createElement('div');\n",
              "        docLink.innerHTML = docLinkHtml;\n",
              "        element.appendChild(docLink);\n",
              "      }\n",
              "    </script>\n",
              "  </div>\n",
              "\n",
              "\n",
              "    <div id=\"df-2f873f11-c47b-47a5-b826-f439d379c993\">\n",
              "      <button class=\"colab-df-quickchart\" onclick=\"quickchart('df-2f873f11-c47b-47a5-b826-f439d379c993')\"\n",
              "                title=\"Suggest charts\"\n",
              "                style=\"display:none;\">\n",
              "\n",
              "<svg xmlns=\"http://www.w3.org/2000/svg\" height=\"24px\"viewBox=\"0 0 24 24\"\n",
              "     width=\"24px\">\n",
              "    <g>\n",
              "        <path d=\"M19 3H5c-1.1 0-2 .9-2 2v14c0 1.1.9 2 2 2h14c1.1 0 2-.9 2-2V5c0-1.1-.9-2-2-2zM9 17H7v-7h2v7zm4 0h-2V7h2v10zm4 0h-2v-4h2v4z\"/>\n",
              "    </g>\n",
              "</svg>\n",
              "      </button>\n",
              "\n",
              "<style>\n",
              "  .colab-df-quickchart {\n",
              "      --bg-color: #E8F0FE;\n",
              "      --fill-color: #1967D2;\n",
              "      --hover-bg-color: #E2EBFA;\n",
              "      --hover-fill-color: #174EA6;\n",
              "      --disabled-fill-color: #AAA;\n",
              "      --disabled-bg-color: #DDD;\n",
              "  }\n",
              "\n",
              "  [theme=dark] .colab-df-quickchart {\n",
              "      --bg-color: #3B4455;\n",
              "      --fill-color: #D2E3FC;\n",
              "      --hover-bg-color: #434B5C;\n",
              "      --hover-fill-color: #FFFFFF;\n",
              "      --disabled-bg-color: #3B4455;\n",
              "      --disabled-fill-color: #666;\n",
              "  }\n",
              "\n",
              "  .colab-df-quickchart {\n",
              "    background-color: var(--bg-color);\n",
              "    border: none;\n",
              "    border-radius: 50%;\n",
              "    cursor: pointer;\n",
              "    display: none;\n",
              "    fill: var(--fill-color);\n",
              "    height: 32px;\n",
              "    padding: 0;\n",
              "    width: 32px;\n",
              "  }\n",
              "\n",
              "  .colab-df-quickchart:hover {\n",
              "    background-color: var(--hover-bg-color);\n",
              "    box-shadow: 0 1px 2px rgba(60, 64, 67, 0.3), 0 1px 3px 1px rgba(60, 64, 67, 0.15);\n",
              "    fill: var(--button-hover-fill-color);\n",
              "  }\n",
              "\n",
              "  .colab-df-quickchart-complete:disabled,\n",
              "  .colab-df-quickchart-complete:disabled:hover {\n",
              "    background-color: var(--disabled-bg-color);\n",
              "    fill: var(--disabled-fill-color);\n",
              "    box-shadow: none;\n",
              "  }\n",
              "\n",
              "  .colab-df-spinner {\n",
              "    border: 2px solid var(--fill-color);\n",
              "    border-color: transparent;\n",
              "    border-bottom-color: var(--fill-color);\n",
              "    animation:\n",
              "      spin 1s steps(1) infinite;\n",
              "  }\n",
              "\n",
              "  @keyframes spin {\n",
              "    0% {\n",
              "      border-color: transparent;\n",
              "      border-bottom-color: var(--fill-color);\n",
              "      border-left-color: var(--fill-color);\n",
              "    }\n",
              "    20% {\n",
              "      border-color: transparent;\n",
              "      border-left-color: var(--fill-color);\n",
              "      border-top-color: var(--fill-color);\n",
              "    }\n",
              "    30% {\n",
              "      border-color: transparent;\n",
              "      border-left-color: var(--fill-color);\n",
              "      border-top-color: var(--fill-color);\n",
              "      border-right-color: var(--fill-color);\n",
              "    }\n",
              "    40% {\n",
              "      border-color: transparent;\n",
              "      border-right-color: var(--fill-color);\n",
              "      border-top-color: var(--fill-color);\n",
              "    }\n",
              "    60% {\n",
              "      border-color: transparent;\n",
              "      border-right-color: var(--fill-color);\n",
              "    }\n",
              "    80% {\n",
              "      border-color: transparent;\n",
              "      border-right-color: var(--fill-color);\n",
              "      border-bottom-color: var(--fill-color);\n",
              "    }\n",
              "    90% {\n",
              "      border-color: transparent;\n",
              "      border-bottom-color: var(--fill-color);\n",
              "    }\n",
              "  }\n",
              "</style>\n",
              "\n",
              "      <script>\n",
              "        async function quickchart(key) {\n",
              "          const quickchartButtonEl =\n",
              "            document.querySelector('#' + key + ' button');\n",
              "          quickchartButtonEl.disabled = true;  // To prevent multiple clicks.\n",
              "          quickchartButtonEl.classList.add('colab-df-spinner');\n",
              "          try {\n",
              "            const charts = await google.colab.kernel.invokeFunction(\n",
              "                'suggestCharts', [key], {});\n",
              "          } catch (error) {\n",
              "            console.error('Error during call to suggestCharts:', error);\n",
              "          }\n",
              "          quickchartButtonEl.classList.remove('colab-df-spinner');\n",
              "          quickchartButtonEl.classList.add('colab-df-quickchart-complete');\n",
              "        }\n",
              "        (() => {\n",
              "          let quickchartButtonEl =\n",
              "            document.querySelector('#df-2f873f11-c47b-47a5-b826-f439d379c993 button');\n",
              "          quickchartButtonEl.style.display =\n",
              "            google.colab.kernel.accessAllowed ? 'block' : 'none';\n",
              "        })();\n",
              "      </script>\n",
              "    </div>\n",
              "\n",
              "    </div>\n",
              "  </div>\n"
            ],
            "application/vnd.google.colaboratory.intrinsic+json": {
              "type": "dataframe",
              "variable_name": "df"
            }
          },
          "metadata": {},
          "execution_count": 7
        }
      ]
    },
    {
      "cell_type": "markdown",
      "source": [],
      "metadata": {
        "id": "8ckQGVIpMt_8"
      }
    },
    {
      "cell_type": "code",
      "source": [
        "import pandas as pd\n",
        "import numpy as np\n",
        "from sklearn.model_selection import train_test_split\n",
        "from sklearn.preprocessing import LabelEncoder\n",
        "\n",
        "# # Load data\n",
        "# df = pd.read_csv('power_quality_data.csv')  # Replace with actual filename\n",
        "\n",
        "# Normalize signal values between [0,1]\n",
        "def normalize_signal(signal):\n",
        "    return (signal - signal.min()) / (signal.max() - signal.min())\n",
        "\n",
        "# Apply normalization\n",
        "signals = df.iloc[:, :-1].apply(normalize_signal, axis=1)\n",
        "labels = df.iloc[:, -1]  # Last column contains labels like 'sag', 'swell', etc.\n",
        "\n",
        "# Segment into fixed-length windows (example: window_size = 200)\n",
        "window_size = 200\n",
        "X = []\n",
        "for row in signals.values:\n",
        "    segments = [row[i:i+window_size] for i in range(0, len(row), window_size)]\n",
        "    X.extend(segments)\n",
        "\n",
        "# Truncate extra segments\n",
        "X = np.array([x for x in X if len(x)==window_size])\n",
        "y = np.repeat(labels, len(X) // len(labels))[:len(X)]\n",
        "\n",
        "# Encode labels\n",
        "le = LabelEncoder()\n",
        "y = le.fit_transform(y)\n",
        "\n",
        "# # Split into train/test sets\n",
        "# X_train, X_test, y_train, y_test = train_test_split(X, y, test_size=0.2, random_state=42)\n",
        "# X_train = X_train.reshape(-1, window_size, 1)\n",
        "# X_test = X_test.reshape(-1, window_size, 1)"
      ],
      "metadata": {
        "id": "Hca3cT8XNXgU"
      },
      "execution_count": 8,
      "outputs": []
    },
    {
      "cell_type": "code",
      "source": [
        "# Assume the last column is the label\n",
        "X = df.iloc[:, :-1].values  # All rows, all columns except last\n",
        "y = df.iloc[:, -1].values   # Last column\n",
        "\n",
        "print(\"Signal shape:\", X.shape)\n",
        "print(\"Label shape:\", y.shape)"
      ],
      "metadata": {
        "colab": {
          "base_uri": "https://localhost:8080/"
        },
        "id": "hL7jhWDxNzx3",
        "outputId": "1272741b-1167-44b9-db50-0c36f1c2e321"
      },
      "execution_count": 9,
      "outputs": [
        {
          "output_type": "stream",
          "name": "stdout",
          "text": [
            "Signal shape: (11998, 129)\n",
            "Label shape: (11998,)\n"
          ]
        }
      ]
    },
    {
      "cell_type": "code",
      "source": [
        "import numpy as np\n",
        "import pandas as pd\n",
        "from sklearn.preprocessing import MinMaxScaler, LabelEncoder\n",
        "from tensorflow.keras.utils import to_categorical\n",
        "from sklearn.model_selection import train_test_split\n",
        "from tensorflow.keras.models import Sequential\n",
        "from tensorflow.keras.layers import Dense, LSTM\n",
        "from tensorflow.keras import Input # Import the Input layer\n",
        "import matplotlib.pyplot as plt\n",
        "\n",
        "# Step 1: Manually read CSV and filter out invalid lines\n",
        "file_path = 'PowerQualityDistributionDataset1.csv'\n",
        "\n",
        "X = []\n",
        "y = []\n",
        "\n",
        "with open(file_path, 'r') as f:\n",
        "    for line in f:\n",
        "        line = line.strip()\n",
        "        if not line or line == '-' or line.startswith('-') and len(line) < 5:\n",
        "            continue  # Skip invalid lines\n",
        "\n",
        "        try:\n",
        "            values = list(map(float, line.split(',')))\n",
        "            if len(values) > 1:\n",
        "                X.append(values[:-1])   # All columns except last one are features\n",
        "                y.append(values[-1])    # Last column is label\n",
        "        except ValueError:\n",
        "            continue  # Skip corrupted/malformed lines\n",
        "\n",
        "# Check if any data was loaded\n",
        "if len(X) == 0:\n",
        "    raise ValueError(\"No valid data found in the file!\")\n",
        "\n",
        "X = np.array(X)\n",
        "y = np.array(y)\n",
        "\n",
        "print(\"Loaded X shape:\", X.shape)\n",
        "print(\"Loaded y shape:\", y.shape)"
      ],
      "metadata": {
        "colab": {
          "base_uri": "https://localhost:8080/"
        },
        "id": "3r_USCm7N2l1",
        "outputId": "6a2e2dd8-a276-4706-f174-cbc729a31ccd"
      },
      "execution_count": 10,
      "outputs": [
        {
          "output_type": "stream",
          "name": "stdout",
          "text": [
            "Loaded X shape: (11998, 129)\n",
            "Loaded y shape: (11998,)\n"
          ]
        }
      ]
    },
    {
      "cell_type": "code",
      "source": [
        "# Step 2: Normalize signal values between [0,1]\n",
        "scaler = MinMaxScaler()\n",
        "X_scaled = scaler.fit_transform(X)\n",
        "\n",
        "# Reshape for LSTM input [samples, timesteps, features]\n",
        "X_reshaped = X_scaled.reshape((X_scaled.shape[0], X_scaled.shape[1], 1))\n",
        "print(X_reshaped)"
      ],
      "metadata": {
        "colab": {
          "base_uri": "https://localhost:8080/"
        },
        "id": "MIFNExSFORMy",
        "outputId": "d785ebed-cff8-48b9-ad61-044e56e1e00e"
      },
      "execution_count": 11,
      "outputs": [
        {
          "output_type": "stream",
          "name": "stdout",
          "text": [
            "[[[0.00000000e+00]\n",
            "  [3.67622533e-01]\n",
            "  [3.34806191e-01]\n",
            "  ...\n",
            "  [5.59239705e-01]\n",
            "  [5.16409806e-01]\n",
            "  [4.80114997e-01]]\n",
            "\n",
            " [[8.33541719e-05]\n",
            "  [6.68138702e-01]\n",
            "  [6.75419602e-01]\n",
            "  ...\n",
            "  [7.45643123e-01]\n",
            "  [7.67186881e-01]\n",
            "  [7.89016462e-01]]\n",
            "\n",
            " [[1.66708344e-04]\n",
            "  [1.79165034e-01]\n",
            "  [1.60089310e-01]\n",
            "  ...\n",
            "  [3.02042854e-01]\n",
            "  [2.65247513e-01]\n",
            "  [2.39474811e-01]]\n",
            "\n",
            " ...\n",
            "\n",
            " [[9.99833292e-01]\n",
            "  [4.10318731e-01]\n",
            "  [3.72417303e-01]\n",
            "  ...\n",
            "  [6.23053067e-01]\n",
            "  [5.77194436e-01]\n",
            "  [5.35142698e-01]]\n",
            "\n",
            " [[9.99916646e-01]\n",
            "  [4.41359629e-01]\n",
            "  [4.03724848e-01]\n",
            "  ...\n",
            "  [6.59892570e-01]\n",
            "  [6.13866239e-01]\n",
            "  [5.73765269e-01]]\n",
            "\n",
            " [[1.00000000e+00]\n",
            "  [6.53211822e-01]\n",
            "  [6.23359401e-01]\n",
            "  ...\n",
            "  [8.73417511e-01]\n",
            "  [8.44793136e-01]\n",
            "  [8.16572322e-01]]]\n"
          ]
        }
      ]
    },
    {
      "cell_type": "code",
      "source": [
        "# Step 3: Encode labels\n",
        "le = LabelEncoder()\n",
        "y_encoded = le.fit_transform(y)\n",
        "\n",
        "# One-hot encode labels\n",
        "y_one_hot = to_categorical(y_encoded)\n",
        "print(y_one_hot)"
      ],
      "metadata": {
        "colab": {
          "base_uri": "https://localhost:8080/"
        },
        "id": "TwJFuMumOXRU",
        "outputId": "0fa8f7f6-dcbc-469a-e3b8-192749e4c854"
      },
      "execution_count": 12,
      "outputs": [
        {
          "output_type": "stream",
          "name": "stdout",
          "text": [
            "[[1. 0. 0. 0. 0.]\n",
            " [0. 1. 0. 0. 0.]\n",
            " [0. 1. 0. 0. 0.]\n",
            " ...\n",
            " [0. 0. 0. 0. 1.]\n",
            " [0. 0. 0. 0. 1.]\n",
            " [0. 0. 0. 0. 1.]]\n"
          ]
        }
      ]
    },
    {
      "cell_type": "code",
      "source": [
        "# Step 4: Train/Test Split\n",
        "X_train, X_test, y_train, y_test = train_test_split(X_reshaped, y_one_hot, test_size=0.2, stratify=y)\n"
      ],
      "metadata": {
        "id": "0-HcYUaWOr6s"
      },
      "execution_count": 13,
      "outputs": []
    },
    {
      "cell_type": "code",
      "source": [
        "# Step 5: Build Model (LSTM Example)\n",
        "model = Sequential([\n",
        "    Input(shape=(X_train.shape[1], 1)), # Input layer\n",
        "    LSTM(64),\n",
        "    Dense(32, activation='relu'),\n",
        "    Dense(len(le.classes_), activation='softmax')\n",
        "])\n",
        "print(model.summary())"
      ],
      "metadata": {
        "colab": {
          "base_uri": "https://localhost:8080/",
          "height": 242
        },
        "id": "Xi632K32OyZK",
        "outputId": "e937175d-c3e0-49ee-f880-76f2589762d3"
      },
      "execution_count": 14,
      "outputs": [
        {
          "output_type": "display_data",
          "data": {
            "text/plain": [
              "\u001b[1mModel: \"sequential\"\u001b[0m\n"
            ],
            "text/html": [
              "<pre style=\"white-space:pre;overflow-x:auto;line-height:normal;font-family:Menlo,'DejaVu Sans Mono',consolas,'Courier New',monospace\"><span style=\"font-weight: bold\">Model: \"sequential\"</span>\n",
              "</pre>\n"
            ]
          },
          "metadata": {}
        },
        {
          "output_type": "display_data",
          "data": {
            "text/plain": [
              "┏━━━━━━━━━━━━━━━━━━━━━━━━━━━━━━━━━┳━━━━━━━━━━━━━━━━━━━━━━━━┳━━━━━━━━━━━━━━━┓\n",
              "┃\u001b[1m \u001b[0m\u001b[1mLayer (type)                   \u001b[0m\u001b[1m \u001b[0m┃\u001b[1m \u001b[0m\u001b[1mOutput Shape          \u001b[0m\u001b[1m \u001b[0m┃\u001b[1m \u001b[0m\u001b[1m      Param #\u001b[0m\u001b[1m \u001b[0m┃\n",
              "┡━━━━━━━━━━━━━━━━━━━━━━━━━━━━━━━━━╇━━━━━━━━━━━━━━━━━━━━━━━━╇━━━━━━━━━━━━━━━┩\n",
              "│ lstm (\u001b[38;5;33mLSTM\u001b[0m)                     │ (\u001b[38;5;45mNone\u001b[0m, \u001b[38;5;34m64\u001b[0m)             │        \u001b[38;5;34m16,896\u001b[0m │\n",
              "├─────────────────────────────────┼────────────────────────┼───────────────┤\n",
              "│ dense (\u001b[38;5;33mDense\u001b[0m)                   │ (\u001b[38;5;45mNone\u001b[0m, \u001b[38;5;34m32\u001b[0m)             │         \u001b[38;5;34m2,080\u001b[0m │\n",
              "├─────────────────────────────────┼────────────────────────┼───────────────┤\n",
              "│ dense_1 (\u001b[38;5;33mDense\u001b[0m)                 │ (\u001b[38;5;45mNone\u001b[0m, \u001b[38;5;34m5\u001b[0m)              │           \u001b[38;5;34m165\u001b[0m │\n",
              "└─────────────────────────────────┴────────────────────────┴───────────────┘\n"
            ],
            "text/html": [
              "<pre style=\"white-space:pre;overflow-x:auto;line-height:normal;font-family:Menlo,'DejaVu Sans Mono',consolas,'Courier New',monospace\">┏━━━━━━━━━━━━━━━━━━━━━━━━━━━━━━━━━┳━━━━━━━━━━━━━━━━━━━━━━━━┳━━━━━━━━━━━━━━━┓\n",
              "┃<span style=\"font-weight: bold\"> Layer (type)                    </span>┃<span style=\"font-weight: bold\"> Output Shape           </span>┃<span style=\"font-weight: bold\">       Param # </span>┃\n",
              "┡━━━━━━━━━━━━━━━━━━━━━━━━━━━━━━━━━╇━━━━━━━━━━━━━━━━━━━━━━━━╇━━━━━━━━━━━━━━━┩\n",
              "│ lstm (<span style=\"color: #0087ff; text-decoration-color: #0087ff\">LSTM</span>)                     │ (<span style=\"color: #00d7ff; text-decoration-color: #00d7ff\">None</span>, <span style=\"color: #00af00; text-decoration-color: #00af00\">64</span>)             │        <span style=\"color: #00af00; text-decoration-color: #00af00\">16,896</span> │\n",
              "├─────────────────────────────────┼────────────────────────┼───────────────┤\n",
              "│ dense (<span style=\"color: #0087ff; text-decoration-color: #0087ff\">Dense</span>)                   │ (<span style=\"color: #00d7ff; text-decoration-color: #00d7ff\">None</span>, <span style=\"color: #00af00; text-decoration-color: #00af00\">32</span>)             │         <span style=\"color: #00af00; text-decoration-color: #00af00\">2,080</span> │\n",
              "├─────────────────────────────────┼────────────────────────┼───────────────┤\n",
              "│ dense_1 (<span style=\"color: #0087ff; text-decoration-color: #0087ff\">Dense</span>)                 │ (<span style=\"color: #00d7ff; text-decoration-color: #00d7ff\">None</span>, <span style=\"color: #00af00; text-decoration-color: #00af00\">5</span>)              │           <span style=\"color: #00af00; text-decoration-color: #00af00\">165</span> │\n",
              "└─────────────────────────────────┴────────────────────────┴───────────────┘\n",
              "</pre>\n"
            ]
          },
          "metadata": {}
        },
        {
          "output_type": "display_data",
          "data": {
            "text/plain": [
              "\u001b[1m Total params: \u001b[0m\u001b[38;5;34m19,141\u001b[0m (74.77 KB)\n"
            ],
            "text/html": [
              "<pre style=\"white-space:pre;overflow-x:auto;line-height:normal;font-family:Menlo,'DejaVu Sans Mono',consolas,'Courier New',monospace\"><span style=\"font-weight: bold\"> Total params: </span><span style=\"color: #00af00; text-decoration-color: #00af00\">19,141</span> (74.77 KB)\n",
              "</pre>\n"
            ]
          },
          "metadata": {}
        },
        {
          "output_type": "display_data",
          "data": {
            "text/plain": [
              "\u001b[1m Trainable params: \u001b[0m\u001b[38;5;34m19,141\u001b[0m (74.77 KB)\n"
            ],
            "text/html": [
              "<pre style=\"white-space:pre;overflow-x:auto;line-height:normal;font-family:Menlo,'DejaVu Sans Mono',consolas,'Courier New',monospace\"><span style=\"font-weight: bold\"> Trainable params: </span><span style=\"color: #00af00; text-decoration-color: #00af00\">19,141</span> (74.77 KB)\n",
              "</pre>\n"
            ]
          },
          "metadata": {}
        },
        {
          "output_type": "display_data",
          "data": {
            "text/plain": [
              "\u001b[1m Non-trainable params: \u001b[0m\u001b[38;5;34m0\u001b[0m (0.00 B)\n"
            ],
            "text/html": [
              "<pre style=\"white-space:pre;overflow-x:auto;line-height:normal;font-family:Menlo,'DejaVu Sans Mono',consolas,'Courier New',monospace\"><span style=\"font-weight: bold\"> Non-trainable params: </span><span style=\"color: #00af00; text-decoration-color: #00af00\">0</span> (0.00 B)\n",
              "</pre>\n"
            ]
          },
          "metadata": {}
        },
        {
          "output_type": "stream",
          "name": "stdout",
          "text": [
            "None\n"
          ]
        }
      ]
    },
    {
      "cell_type": "code",
      "source": [
        "# Step 6: Compile the Model - metrics should be a list or tuple\n",
        "model.compile(optimizer='adam', loss='categorical_crossentropy', metrics=['accuracy'])\n"
      ],
      "metadata": {
        "id": "PJ-InsjoO4ct"
      },
      "execution_count": 15,
      "outputs": []
    },
    {
      "cell_type": "code",
      "source": [
        "# Step 7: Train the Model\n",
        "history = model.fit(X_train, y_train,\n",
        "                    epochs=20,\n",
        "                    batch_size=32,\n",
        "                    validation_data=(X_test, y_test))\n"
      ],
      "metadata": {
        "colab": {
          "base_uri": "https://localhost:8080/"
        },
        "id": "O3c5hk-YPKuK",
        "outputId": "46d71992-47ea-48e5-b17d-1a5cfc4bb730"
      },
      "execution_count": 16,
      "outputs": [
        {
          "output_type": "stream",
          "name": "stdout",
          "text": [
            "Epoch 1/20\n",
            "\u001b[1m300/300\u001b[0m \u001b[32m━━━━━━━━━━━━━━━━━━━━\u001b[0m\u001b[37m\u001b[0m \u001b[1m23s\u001b[0m 66ms/step - accuracy: 0.2460 - loss: 1.5968 - val_accuracy: 0.2512 - val_loss: 1.5871\n",
            "Epoch 2/20\n",
            "\u001b[1m300/300\u001b[0m \u001b[32m━━━━━━━━━━━━━━━━━━━━\u001b[0m\u001b[37m\u001b[0m \u001b[1m17s\u001b[0m 56ms/step - accuracy: 0.2521 - loss: 1.5891 - val_accuracy: 0.2612 - val_loss: 1.5831\n",
            "Epoch 3/20\n",
            "\u001b[1m300/300\u001b[0m \u001b[32m━━━━━━━━━━━━━━━━━━━━\u001b[0m\u001b[37m\u001b[0m \u001b[1m17s\u001b[0m 58ms/step - accuracy: 0.2537 - loss: 1.5779 - val_accuracy: 0.2500 - val_loss: 1.5952\n",
            "Epoch 4/20\n",
            "\u001b[1m300/300\u001b[0m \u001b[32m━━━━━━━━━━━━━━━━━━━━\u001b[0m\u001b[37m\u001b[0m \u001b[1m20s\u001b[0m 56ms/step - accuracy: 0.2573 - loss: 1.5927 - val_accuracy: 0.2492 - val_loss: 1.5890\n",
            "Epoch 5/20\n",
            "\u001b[1m300/300\u001b[0m \u001b[32m━━━━━━━━━━━━━━━━━━━━\u001b[0m\u001b[37m\u001b[0m \u001b[1m22s\u001b[0m 61ms/step - accuracy: 0.2518 - loss: 1.5888 - val_accuracy: 0.2671 - val_loss: 1.5885\n",
            "Epoch 6/20\n",
            "\u001b[1m300/300\u001b[0m \u001b[32m━━━━━━━━━━━━━━━━━━━━\u001b[0m\u001b[37m\u001b[0m \u001b[1m17s\u001b[0m 57ms/step - accuracy: 0.2528 - loss: 1.5863 - val_accuracy: 0.2550 - val_loss: 1.5870\n",
            "Epoch 7/20\n",
            "\u001b[1m300/300\u001b[0m \u001b[32m━━━━━━━━━━━━━━━━━━━━\u001b[0m\u001b[37m\u001b[0m \u001b[1m22s\u001b[0m 61ms/step - accuracy: 0.2629 - loss: 1.5778 - val_accuracy: 0.3404 - val_loss: 1.4316\n",
            "Epoch 8/20\n",
            "\u001b[1m300/300\u001b[0m \u001b[32m━━━━━━━━━━━━━━━━━━━━\u001b[0m\u001b[37m\u001b[0m \u001b[1m21s\u001b[0m 62ms/step - accuracy: 0.2760 - loss: 1.5706 - val_accuracy: 0.3275 - val_loss: 1.5306\n",
            "Epoch 9/20\n",
            "\u001b[1m300/300\u001b[0m \u001b[32m━━━━━━━━━━━━━━━━━━━━\u001b[0m\u001b[37m\u001b[0m \u001b[1m20s\u001b[0m 60ms/step - accuracy: 0.3505 - loss: 1.4040 - val_accuracy: 0.4112 - val_loss: 1.2337\n",
            "Epoch 10/20\n",
            "\u001b[1m300/300\u001b[0m \u001b[32m━━━━━━━━━━━━━━━━━━━━\u001b[0m\u001b[37m\u001b[0m \u001b[1m21s\u001b[0m 62ms/step - accuracy: 0.4098 - loss: 1.1873 - val_accuracy: 0.4187 - val_loss: 1.1459\n",
            "Epoch 11/20\n",
            "\u001b[1m300/300\u001b[0m \u001b[32m━━━━━━━━━━━━━━━━━━━━\u001b[0m\u001b[37m\u001b[0m \u001b[1m17s\u001b[0m 58ms/step - accuracy: 0.4200 - loss: 1.1719 - val_accuracy: 0.4162 - val_loss: 1.1894\n",
            "Epoch 12/20\n",
            "\u001b[1m300/300\u001b[0m \u001b[32m━━━━━━━━━━━━━━━━━━━━\u001b[0m\u001b[37m\u001b[0m \u001b[1m21s\u001b[0m 61ms/step - accuracy: 0.4269 - loss: 1.1444 - val_accuracy: 0.4204 - val_loss: 1.1445\n",
            "Epoch 13/20\n",
            "\u001b[1m300/300\u001b[0m \u001b[32m━━━━━━━━━━━━━━━━━━━━\u001b[0m\u001b[37m\u001b[0m \u001b[1m21s\u001b[0m 63ms/step - accuracy: 0.4200 - loss: 1.1914 - val_accuracy: 0.4175 - val_loss: 1.1422\n",
            "Epoch 14/20\n",
            "\u001b[1m300/300\u001b[0m \u001b[32m━━━━━━━━━━━━━━━━━━━━\u001b[0m\u001b[37m\u001b[0m \u001b[1m18s\u001b[0m 56ms/step - accuracy: 0.4347 - loss: 1.1484 - val_accuracy: 0.3750 - val_loss: 1.3331\n",
            "Epoch 15/20\n",
            "\u001b[1m300/300\u001b[0m \u001b[32m━━━━━━━━━━━━━━━━━━━━\u001b[0m\u001b[37m\u001b[0m \u001b[1m23s\u001b[0m 66ms/step - accuracy: 0.3503 - loss: 1.3761 - val_accuracy: 0.4142 - val_loss: 1.1608\n",
            "Epoch 16/20\n",
            "\u001b[1m300/300\u001b[0m \u001b[32m━━━━━━━━━━━━━━━━━━━━\u001b[0m\u001b[37m\u001b[0m \u001b[1m18s\u001b[0m 56ms/step - accuracy: 0.4150 - loss: 1.1483 - val_accuracy: 0.4242 - val_loss: 1.1414\n",
            "Epoch 17/20\n",
            "\u001b[1m300/300\u001b[0m \u001b[32m━━━━━━━━━━━━━━━━━━━━\u001b[0m\u001b[37m\u001b[0m \u001b[1m18s\u001b[0m 61ms/step - accuracy: 0.4197 - loss: 1.1465 - val_accuracy: 0.4217 - val_loss: 1.1390\n",
            "Epoch 18/20\n",
            "\u001b[1m300/300\u001b[0m \u001b[32m━━━━━━━━━━━━━━━━━━━━\u001b[0m\u001b[37m\u001b[0m \u001b[1m19s\u001b[0m 56ms/step - accuracy: 0.4225 - loss: 1.1406 - val_accuracy: 0.4167 - val_loss: 1.1442\n",
            "Epoch 19/20\n",
            "\u001b[1m300/300\u001b[0m \u001b[32m━━━━━━━━━━━━━━━━━━━━\u001b[0m\u001b[37m\u001b[0m \u001b[1m22s\u001b[0m 61ms/step - accuracy: 0.4312 - loss: 1.1274 - val_accuracy: 0.4104 - val_loss: 1.2084\n",
            "Epoch 20/20\n",
            "\u001b[1m300/300\u001b[0m \u001b[32m━━━━━━━━━━━━━━━━━━━━\u001b[0m\u001b[37m\u001b[0m \u001b[1m19s\u001b[0m 57ms/step - accuracy: 0.4172 - loss: 1.1399 - val_accuracy: 0.4233 - val_loss: 1.1397\n"
          ]
        }
      ]
    },
    {
      "cell_type": "code",
      "source": [
        "# Step 8: Evaluate\n",
        "test_loss, test_acc = model.evaluate(X_test, y_test)\n",
        "print(f\"Test Accuracy: {test_acc:.4f}\")"
      ],
      "metadata": {
        "colab": {
          "base_uri": "https://localhost:8080/"
        },
        "id": "S1i-pI2VhVuy",
        "outputId": "f688e3ad-4e63-4aad-eb1d-7b42cf44f7ad"
      },
      "execution_count": 17,
      "outputs": [
        {
          "output_type": "stream",
          "name": "stdout",
          "text": [
            "\u001b[1m75/75\u001b[0m \u001b[32m━━━━━━━━━━━━━━━━━━━━\u001b[0m\u001b[37m\u001b[0m \u001b[1m1s\u001b[0m 18ms/step - accuracy: 0.4236 - loss: 1.1538\n",
            "Test Accuracy: 0.4233\n"
          ]
        }
      ]
    },
    {
      "cell_type": "code",
      "source": [
        "# Print first few samples to inspect\n",
        "print(\"First sample X:\\n\", X[0])\n",
        "print(\"First label y:\", y[0])"
      ],
      "metadata": {
        "colab": {
          "base_uri": "https://localhost:8080/"
        },
        "id": "GeBe2lyqhf_R",
        "outputId": "34400d28-4860-411c-b130-9ce8a0166ca1"
      },
      "execution_count": 18,
      "outputs": [
        {
          "output_type": "stream",
          "name": "stdout",
          "text": [
            "First sample X:\n",
            " [    0.         -797.9629139 -1320.199586  -1828.741445  -2319.935857\n",
            " -2789.218649  -3231.111864  -3641.962908  -4018.119193  -4355.929647\n",
            " -4650.829055  -4904.643864  -5107.330184  -5261.626825  -5366.622879\n",
            " -5418.663525  -5419.576973  -5367.535249  -5264.365732  -5110.069166\n",
            " -4906.470001  -4656.307539  -4364.146538  -4024.510575  -3650.179436\n",
            " -3239.328934  -2797.436518  -2329.066729  -1837.871278  -1329.329968\n",
            "  -808.0057599  -278.4650931   252.902023    782.4429348  1303.766529\n",
            "  1812.308746   2303.502822   2772.785644   3215.592255   3626.44257\n",
            "  4002.599102   4340.41002    4635.308742   4889.123311   5091.809843\n",
            "  5246.107233   5351.102372   5403.143747   5403.14343    5352.015807\n",
            "  5247.933438   5093.636409   4890.036346   4639.874603   4346.800838\n",
            "  4008.076722   3632.833202   3221.982389   2781.003042   2311.720283\n",
            "  1821.438316   1311.983904    791.5732227   262.0314643  -269.3344734\n",
            "  -798.8763165 -1320.199418  -1828.74136   -2319.936416  -2789.219467\n",
            " -3231.1122    -3642.875577  -4018.119489  -4355.929505  -4650.829362\n",
            " -4904.643788  -5107.33      -5261.627561  -5366.622779  -5418.663729\n",
            " -5419.576393  -5367.53523   -5264.366378  -5110.069189  -4906.469248\n",
            " -4656.307161  -4364.146668  -4024.510336  -3650.179158  -3239.328487\n",
            " -2797.435948  -2329.066521  -1837.87191   -1329.329479   -808.0054772\n",
            "  -279.3774749   252.9018688   781.5302146  1303.767033   1812.308177\n",
            "  2304.416161   2773.699506   3215.591849   3627.355635   4002.598697\n",
            "  4340.409797   4635.308762   4889.123899   5091.809794   5246.107486\n",
            "  5351.102295   5403.143675   5403.143732   5351.102775   5247.932927\n",
            "  5093.636278   4889.123913   4639.874673   4346.800923   4008.077109\n",
            "  3632.834002   3221.982426   2780.090228   2311.720161   1821.438861\n",
            "  1311.983509    790.6594562   262.0318361  -269.3352046]\n",
            "First label y: 1.0\n"
          ]
        }
      ]
    },
    {
      "cell_type": "code",
      "source": [
        "#  Plot Accuracy\n",
        "plt.plot(history.history['accuracy'], label='Train Accuracy')\n",
        "plt.plot(history.history['val_accuracy'], label='Test Accuracy')\n",
        "plt.legend()\n",
        "plt.title('Model Accuracy')\n",
        "plt.show()"
      ],
      "metadata": {
        "colab": {
          "base_uri": "https://localhost:8080/",
          "height": 452
        },
        "id": "kugn_k58hmWy",
        "outputId": "3a2ce4c4-f215-432e-e3a1-7ddfe034679d"
      },
      "execution_count": 19,
      "outputs": [
        {
          "output_type": "display_data",
          "data": {
            "text/plain": [
              "<Figure size 640x480 with 1 Axes>"
            ],
            "image/png": "[encoded data removed]"
          },
          "metadata": {}
        }
      ]
    },
    {
      "cell_type": "code",
      "source": [
        "!pip install paho-mqtt"
      ],
      "metadata": {
        "colab": {
          "base_uri": "https://localhost:8080/"
        },
        "id": "TtXtAgYPhrDO",
        "outputId": "c1000dda-8f4f-4d54-a832-97840de29d4e"
      },
      "execution_count": 20,
      "outputs": [
        {
          "output_type": "stream",
          "name": "stdout",
          "text": [
            "Collecting paho-mqtt\n",
            "  Downloading paho_mqtt-2.1.0-py3-none-any.whl.metadata (23 kB)\n",
            "Downloading paho_mqtt-2.1.0-py3-none-any.whl (67 kB)\n",
            "\u001b[?25l   \u001b[90m━━━━━━━━━━━━━━━━━━━━━━━━━━━━━━━━━━━━━━━━\u001b[0m \u001b[32m0.0/67.2 kB\u001b[0m \u001b[31m?\u001b[0m eta \u001b[36m-:--:--\u001b[0m\r\u001b[2K   \u001b[90m━━━━━━━━━━━━━━━━━━━━━━━━━━━━━━━━━━━━━━━━\u001b[0m \u001b[32m67.2/67.2 kB\u001b[0m \u001b[31m2.7 MB/s\u001b[0m eta \u001b[36m0:00:00\u001b[0m\n",
            "\u001b[?25hInstalling collected packages: paho-mqtt\n",
            "Successfully installed paho-mqtt-2.1.0\n"
          ]
        }
      ]
    },
    {
      "cell_type": "code",
      "source": [
        "import paho.mqtt.client as mqtt\n",
        "import json\n",
        "import time\n",
        "\n",
        "# MQTT Setup - ThingsBoard demo server\n",
        "THINGSBOARD_HOST = \"demo.thingsboard.io\"\n",
        "ACCESS_TOKEN = \"8jNZ4Z2eBShkbTmtX1KJ\"  # Replace with your actual token\n",
        "\n",
        "# Create MQTT client\n",
        "client = mqtt.Client(client_id=\"\")  # No fixed ID needed\n",
        "client.username_pw_set(ACCESS_TOKEN)\n",
        "\n",
        "try:\n",
        "    client.connect(THINGSBOARD_HOST, 1883, 60)\n",
        "except Exception as e:\n",
        "    print(f\"[ERROR] Could not connect to ThingsBoard: {e}\")\n",
        "    exit()\n",
        "\n",
        "topic = \"v1/devices/me/telemetry\"\n",
        "\n",
        "print(\"\\nPublishing sample predictions to ThingsBoard...\\n\")\n",
        "\n",
        "# Get predicted classes\n",
        "y_pred = model.predict(X_test)\n",
        "y_pred_classes = np.argmax(y_pred, axis=1)\n",
        "y_true_classes = np.argmax(y_test, axis=1)\n",
        "\n",
        "for i in range(5):  # Send first 5 predictions\n",
        "    true_label = le.inverse_transform([y_true_classes[i]])[0]\n",
        "    pred_label = le.inverse_transform([y_pred_classes[i]])[0]\n",
        "\n",
        "    payload = {\n",
        "        \"timestamp\": int(time.time() * 1000),\n",
        "        \"true_label\": true_label,\n",
        "        \"predicted_label\": pred_label\n",
        "    }\n",
        "\n",
        "    print(f\"[{i}] Sending: {payload}\")\n",
        "    client.publish(topic, json.dumps(payload))\n",
        "    time.sleep(2)  # Delay between messages\n",
        "\n",
        "confidence = np.max(y_pred[i])\n",
        "payload = {\n",
        "    \"timestamp\": int(time.time() * 1000),\n",
        "    \"true_label\": true_label,\n",
        "    \"predicted_label\": pred_label,\n",
        "    \"confidence\": float(confidence)\n",
        "}\n",
        "\n",
        "print(\"\\n✅ Predictions sent to ThingsBoard\")\n",
        "client.disconnect()"
      ],
      "metadata": {
        "colab": {
          "base_uri": "https://localhost:8080/"
        },
        "id": "_vjuQKILiJ4P",
        "outputId": "770846c3-2d62-4e9b-a89a-3130d958acc8"
      },
      "execution_count": 28,
      "outputs": [
        {
          "output_type": "stream",
          "name": "stdout",
          "text": [
            "\n",
            "Publishing sample predictions to ThingsBoard...\n",
            "\n",
            "\u001b[1m 4/75\u001b[0m \u001b[32m━\u001b[0m\u001b[37m━━━━━━━━━━━━━━━━━━━\u001b[0m \u001b[1m1s\u001b[0m 19ms/step"
          ]
        },
        {
          "output_type": "stream",
          "name": "stderr",
          "text": [
            "<ipython-input-28-64a571e35819>:10: DeprecationWarning: Callback API version 1 is deprecated, update to latest version\n",
            "  client = mqtt.Client(client_id=\"\")  # No fixed ID needed\n"
          ]
        },
        {
          "output_type": "stream",
          "name": "stdout",
          "text": [
            "\u001b[1m75/75\u001b[0m \u001b[32m━━━━━━━━━━━━━━━━━━━━\u001b[0m\u001b[37m\u001b[0m \u001b[1m2s\u001b[0m 20ms/step\n",
            "[0] Sending: {'timestamp': 1747290663688, 'true_label': np.float64(2.0), 'predicted_label': np.float64(3.0)}\n",
            "[1] Sending: {'timestamp': 1747290665689, 'true_label': np.float64(5.0), 'predicted_label': np.float64(5.0)}\n",
            "[2] Sending: {'timestamp': 1747290667691, 'true_label': np.float64(2.0), 'predicted_label': np.float64(3.0)}\n",
            "[3] Sending: {'timestamp': 1747290669692, 'true_label': np.float64(1.0), 'predicted_label': np.float64(5.0)}\n",
            "[4] Sending: {'timestamp': 1747290671694, 'true_label': np.float64(2.0), 'predicted_label': np.float64(3.0)}\n",
            "\n",
            "✅ Predictions sent to ThingsBoard\n"
          ]
        },
        {
          "output_type": "execute_result",
          "data": {
            "text/plain": [
              "<MQTTErrorCode.MQTT_ERR_SUCCESS: 0>"
            ]
          },
          "metadata": {},
          "execution_count": 28
        }
      ]
    },
    {
      "cell_type": "code",
      "source": [
        "# import random\n",
        "# while True:\n",
        "#     i = random.randint(0, len(X_test)-1)\n",
        "#     true_label = le.inverse_transform([y_true_classes[i]])[0]\n",
        "#     pred_label = le.inverse_transform([y_pred_classes[i]])[0]\n",
        "#     payload = {\"true\": true_label, \"predicted\": pred_label}\n",
        "#     client.publish(topic, json.dumps(payload))\n",
        "#     print(f\"Published: {payload}\")\n",
        "#     time.sleep(5)"
      ],
      "metadata": {
        "colab": {
          "base_uri": "https://localhost:8080/",
          "height": 401
        },
        "id": "hdXKZwPyk12a",
        "outputId": "31d7e68c-d7c4-47cc-9335-5fb9e8e4de8f"
      },
      "execution_count": 29,
      "outputs": [
        {
          "output_type": "stream",
          "name": "stdout",
          "text": [
            "Published: {'true': np.float64(2.0), 'predicted': np.float64(3.0)}\n",
            "Published: {'true': np.float64(4.0), 'predicted': np.float64(4.0)}\n",
            "Published: {'true': np.float64(1.0), 'predicted': np.float64(3.0)}\n",
            "Published: {'true': np.float64(3.0), 'predicted': np.float64(5.0)}\n",
            "Published: {'true': np.float64(2.0), 'predicted': np.float64(3.0)}\n",
            "Published: {'true': np.float64(4.0), 'predicted': np.float64(4.0)}\n",
            "Published: {'true': np.float64(3.0), 'predicted': np.float64(3.0)}\n",
            "Published: {'true': np.float64(4.0), 'predicted': np.float64(4.0)}\n",
            "Published: {'true': np.float64(2.0), 'predicted': np.float64(3.0)}\n",
            "Published: {'true': np.float64(3.0), 'predicted': np.float64(5.0)}\n",
            "Published: {'true': np.float64(4.0), 'predicted': np.float64(4.0)}\n",
            "Published: {'true': np.float64(1.0), 'predicted': np.float64(5.0)}\n",
            "Published: {'true': np.float64(2.0), 'predicted': np.float64(5.0)}\n"
          ]
        },
        {
          "output_type": "error",
          "ename": "KeyboardInterrupt",
          "evalue": "",
          "traceback": [
            "\u001b[0;31m---------------------------------------------------------------------------\u001b[0m",
            "\u001b[0;31mKeyboardInterrupt\u001b[0m                         Traceback (most recent call last)",
            "\u001b[0;32m<ipython-input-29-3a5c5c754a98>\u001b[0m in \u001b[0;36m<cell line: 0>\u001b[0;34m()\u001b[0m\n\u001b[1;32m      7\u001b[0m     \u001b[0mclient\u001b[0m\u001b[0;34m.\u001b[0m\u001b[0mpublish\u001b[0m\u001b[0;34m(\u001b[0m\u001b[0mtopic\u001b[0m\u001b[0;34m,\u001b[0m \u001b[0mjson\u001b[0m\u001b[0;34m.\u001b[0m\u001b[0mdumps\u001b[0m\u001b[0;34m(\u001b[0m\u001b[0mpayload\u001b[0m\u001b[0;34m)\u001b[0m\u001b[0;34m)\u001b[0m\u001b[0;34m\u001b[0m\u001b[0;34m\u001b[0m\u001b[0m\n\u001b[1;32m      8\u001b[0m     \u001b[0mprint\u001b[0m\u001b[0;34m(\u001b[0m\u001b[0;34mf\"Published: {payload}\"\u001b[0m\u001b[0;34m)\u001b[0m\u001b[0;34m\u001b[0m\u001b[0;34m\u001b[0m\u001b[0m\n\u001b[0;32m----> 9\u001b[0;31m     \u001b[0mtime\u001b[0m\u001b[0;34m.\u001b[0m\u001b[0msleep\u001b[0m\u001b[0;34m(\u001b[0m\u001b[0;36m5\u001b[0m\u001b[0;34m)\u001b[0m\u001b[0;34m\u001b[0m\u001b[0;34m\u001b[0m\u001b[0m\n\u001b[0m",
            "\u001b[0;31mKeyboardInterrupt\u001b[0m: "
          ]
        }
      ]
    }
  ]
}